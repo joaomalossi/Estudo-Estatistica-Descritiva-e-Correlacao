{
 "cells": [
  {
   "cell_type": "markdown",
   "metadata": {},
   "source": [
    "<h1>Estudo sobre a Estatística Descritiva e Correlação</h1>\n",
    "<br>\n",
    "<br>\n",
    "A Estatística Descritiva visa descrever e sumarizar um conjunto de dados. Para isso, são usadas uma série de medidas, como:\n",
    "<li> Média;\n",
    "<li> Mediana;\n",
    "<li> Amplitude;\n",
    "<li> Variância;\n",
    "<li> Desvio padrão.\n",
    "<br>\n",
    "<br>\n",
    "Existem ainda outras características como moda, quantils e outros, porém neste estudo será abordado apenas as já citadas.\n",
    "<br>\n",
    "<img src=\"https://media.giphy.com/media/yznEXxtq7wQlG/giphy.gif\">"
   ]
  },
  {
   "cell_type": "code",
   "execution_count": 1,
   "metadata": {
    "collapsed": true
   },
   "outputs": [],
   "source": [
    "# Aqui carregamos os pacotes pandas, numpy e o dataset do Titanic.\n",
    "\n",
    "import pandas as pd\n",
    "import numpy as np\n",
    "import seaborn as sns\n",
    "import matplotlib.pyplot as plt\n",
    "%matplotlib inline\n",
    "\n",
    "train_df = pd.read_csv('datasets/train.csv')"
   ]
  },
  {
   "cell_type": "markdown",
   "metadata": {},
   "source": [
    "<h2>- Medidas de tendência central</h2>\n",
    "<br>\n",
    "As medidas de tendência central definem valores significativos, representativos e adequados para um conjunto de dados, dependendo do que se deseja analisar. Aqui, abordaremos a média e a mediana.\n",
    "<br>\n",
    "<br>\n",
    "<img src=\"https://media.giphy.com/media/96OcHR3Ojz9QI/giphy.gif\">"
   ]
  },
  {
   "cell_type": "markdown",
   "metadata": {},
   "source": [
    "<h3>Média</h3>\n",
    "<br>\n",
    "A média é uma medida de tendência central que indica o valor onde estão concentrados os dados de um conjunto de valores, representando um valor significativo para o mesmo.\n",
    "<br>\n",
    "A média é calculada através da função <b>mean()</b>"
   ]
  },
  {
   "cell_type": "code",
   "execution_count": 2,
   "metadata": {
    "collapsed": false
   },
   "outputs": [
    {
     "name": "stdout",
     "output_type": "stream",
     "text": [
      "29.69911764705882\n"
     ]
    }
   ],
   "source": [
    "# Imprimindo a média da coluna 'Age' do dataset\n",
    "print(train_df['Age'].mean())"
   ]
  },
  {
   "cell_type": "markdown",
   "metadata": {},
   "source": [
    "<h3>Mediana</h3>\n",
    "<br>\n",
    "A mediana é o valor que separa a metade superior da metade inferior de uma distribuição de dados, ou o valor no centro da distribuição. Na prática, se o número de observações na distribuição é ímpar, ele é o valor central, e se o número de observações é par, ele será a média das duas observações mais centrais.\n",
    "<br>\n",
    "A mediana é calculada através da função <b>median()</b>"
   ]
  },
  {
   "cell_type": "code",
   "execution_count": 3,
   "metadata": {
    "collapsed": false
   },
   "outputs": [
    {
     "name": "stdout",
     "output_type": "stream",
     "text": [
      "28.0\n"
     ]
    }
   ],
   "source": [
    "# Imprimindo a mediana da coluna 'Age' do dataset\n",
    "print(train_df['Age'].median())"
   ]
  },
  {
   "cell_type": "markdown",
   "metadata": {},
   "source": [
    "A mediana é um conceito menos suscetível a grandes valores discrepantes do que a média. Se o número de observações não é muito grande e você tem uma observação que é muito maior do que os outros, a sua média pode começar a ficar menos representativa com relação à maioria do seu grupo\n",
    "<br>\n",
    "<br>Por exemplo, se você está analisando o rendimento de uma classe da faculdade e um deles é um milionário, enquanto o restante é o trabalhador médio da empresa, a mediana será, provavelmente, uma melhor representação dos rendimentos do grupo como um todo, uma vez que a média estará “contaminada” pelo valor discrepante.\n",
    "<br>\n",
    "<br>\n",
    "<img src=\"https://media.giphy.com/media/3o7abxX5p5SLHTtXG0/giphy.gif\">\n"
   ]
  },
  {
   "cell_type": "markdown",
   "metadata": {},
   "source": [
    "<h3>Amplitude</h3>\n",
    "<br>\n",
    "A amplitude nada mais é do que a diferença entre o maior e o menor valor de um conjunto de dados. Para fazer este cálculo no Pandas, usaremos as funções <b>max()</b> e <b>min()</b>, que obviamente, retornam o valor máximo e mínimo de um conjunto de dados, e depois subtrairemos um do outro:"
   ]
  },
  {
   "cell_type": "code",
   "execution_count": 4,
   "metadata": {
    "collapsed": false
   },
   "outputs": [
    {
     "name": "stdout",
     "output_type": "stream",
     "text": [
      "79.58\n"
     ]
    }
   ],
   "source": [
    "# Imprimindo a amplitude da coluna 'Age' do dataset\n",
    "print(train_df['Age'].max() - train_df['Age'].min())"
   ]
  },
  {
   "cell_type": "markdown",
   "metadata": {},
   "source": [
    "<h3>Variância</h3>\n",
    "<br>\n",
    "A variância é uma medida que expressa quanto os dados de um conjunto estão afastados de seu valor esperado. Calculamos a variância no Pandas através da função <b>var()</b>:"
   ]
  },
  {
   "cell_type": "code",
   "execution_count": 5,
   "metadata": {
    "collapsed": false
   },
   "outputs": [
    {
     "name": "stdout",
     "output_type": "stream",
     "text": [
      "211.0191247463081\n"
     ]
    }
   ],
   "source": [
    "# Imprimindo a variância da coluna 'Age' do dataset\n",
    "print(train_df['Age'].var())"
   ]
  },
  {
   "cell_type": "markdown",
   "metadata": {},
   "source": [
    "<h3>Desvio Padrão</h3>\n",
    "<br>\n",
    "O desvio padrão também é uma medida de dispersão, que indica quanto os dados estão afastados da média. Um valor de desvio padrão alto indica que os valores estão mais espalhados, mais longe da média, e um desvio padrão baixo indica que os valores estão mais próximos da média. No Pandas fazemos o cálculo através da função <b>std()</b>:"
   ]
  },
  {
   "cell_type": "code",
   "execution_count": 6,
   "metadata": {
    "collapsed": false
   },
   "outputs": [
    {
     "name": "stdout",
     "output_type": "stream",
     "text": [
      "14.526497332334044\n"
     ]
    }
   ],
   "source": [
    "# Imprimindo o desvio padrão da coluna 'Age' do dataset\n",
    "print(train_df['Age'].std())"
   ]
  },
  {
   "cell_type": "markdown",
   "metadata": {},
   "source": [
    "<h2>- Covariância e Correlação</h2>\n",
    "<br>\n",
    "A covariância é uma medida numérica que indica a inter-dependência entre duas variáveis. A covariância indica como duas variáveis se comportam conjuntamente em relação às suas médias. Uma covariância igual a 0 indica que as duas variáveis são totalmente independentes, enquanto que uma covariância alta e positiva indica que uma variável é grande quando a outra é grande. <br>A covariância pode ser calculada no Pandas através da função <b>cov()</b>. Ela retorna uma matriz indicando a covariância de cada coluna com outra:"
   ]
  },
  {
   "cell_type": "code",
   "execution_count": 7,
   "metadata": {
    "collapsed": false
   },
   "outputs": [
    {
     "name": "stdout",
     "output_type": "stream",
     "text": [
      "              PassengerId  Survived     Pclass         Age      SibSp  \\\n",
      "PassengerId  66231.000000 -0.626966  -7.561798  138.696504 -16.325843   \n",
      "Survived        -0.626966  0.236772  -0.137703   -0.551296  -0.018954   \n",
      "Pclass          -7.561798 -0.137703   0.699015   -4.496004   0.076599   \n",
      "Age            138.696504 -0.551296  -4.496004  211.019125  -4.163334   \n",
      "SibSp          -16.325843 -0.018954   0.076599   -4.163334   1.216043   \n",
      "Parch           -0.342697  0.032017   0.012429   -2.344191   0.368739   \n",
      "Fare           161.883369  6.221787 -22.830196   73.849030   8.748734   \n",
      "\n",
      "                Parch         Fare  \n",
      "PassengerId -0.342697   161.883369  \n",
      "Survived     0.032017     6.221787  \n",
      "Pclass       0.012429   -22.830196  \n",
      "Age         -2.344191    73.849030  \n",
      "SibSp        0.368739     8.748734  \n",
      "Parch        0.649728     8.661052  \n",
      "Fare         8.661052  2469.436846  \n"
     ]
    }
   ],
   "source": [
    "# Imprimindo a covariância do dataset\n",
    "print(train_df.cov())"
   ]
  },
  {
   "cell_type": "markdown",
   "metadata": {},
   "source": [
    "A covariância, entretanto, pode ser difícil de ser compreendida e comparada, pois ela nos dá valores em escalas que serão diferentes conforme as variáveis mudem.\n",
    "<br>Para uma melhor comparação, normalizamos a covariância para ter um valor que sempre estará entre 1 e -1, que é a correlação. Logo, a correlação também é outra medida que indica o quanto duas variáveis estão relacionadas. Seu valor fica sempre entre -1, que indica uma anti-correlação perfeita, e 1, que indica uma correlação perfeita.\n",
    "<br>\n",
    "<br>Calculamos a correlação no Pandas com a função <b>corr()</b>, que assim como a função cov(), irá retornar uma matriz com a correlação de cada coluna com as outras colunas do Dataframe:"
   ]
  },
  {
   "cell_type": "code",
   "execution_count": 8,
   "metadata": {
    "collapsed": false
   },
   "outputs": [
    {
     "name": "stdout",
     "output_type": "stream",
     "text": [
      "             PassengerId  Survived    Pclass       Age     SibSp     Parch  \\\n",
      "PassengerId     1.000000 -0.005007 -0.035144  0.036847 -0.057527 -0.001652   \n",
      "Survived       -0.005007  1.000000 -0.338481 -0.077221 -0.035322  0.081629   \n",
      "Pclass         -0.035144 -0.338481  1.000000 -0.369226  0.083081  0.018443   \n",
      "Age             0.036847 -0.077221 -0.369226  1.000000 -0.308247 -0.189119   \n",
      "SibSp          -0.057527 -0.035322  0.083081 -0.308247  1.000000  0.414838   \n",
      "Parch          -0.001652  0.081629  0.018443 -0.189119  0.414838  1.000000   \n",
      "Fare            0.012658  0.257307 -0.549500  0.096067  0.159651  0.216225   \n",
      "\n",
      "                 Fare  \n",
      "PassengerId  0.012658  \n",
      "Survived     0.257307  \n",
      "Pclass      -0.549500  \n",
      "Age          0.096067  \n",
      "SibSp        0.159651  \n",
      "Parch        0.216225  \n",
      "Fare         1.000000  \n"
     ]
    }
   ],
   "source": [
    "# Imprimindo a correlação do dataset\n",
    "print(train_df.corr())"
   ]
  },
  {
   "cell_type": "code",
   "execution_count": 15,
   "metadata": {
    "collapsed": false
   },
   "outputs": [
    {
     "data": {
      "text/plain": [
       "<matplotlib.axes._subplots.AxesSubplot at 0x1b889039940>"
      ]
     },
     "execution_count": 15,
     "metadata": {},
     "output_type": "execute_result"
    },
    {
     "data": {
      "image/png": "[encoded data removed]",
      "text/plain": [
       "<matplotlib.figure.Figure at 0x1b889039e48>"
      ]
     },
     "metadata": {},
     "output_type": "display_data"
    }
   ],
   "source": [
    "# Plotando um mapa de correlação\n",
    "corr = train_df.corr()\n",
    "plt.figure(figsize = (12,8))\n",
    "sns.heatmap(corr, \n",
    "        xticklabels=corr.columns,\n",
    "        yticklabels=corr.columns)"
   ]
  },
  {
   "cell_type": "markdown",
   "metadata": {},
   "source": [
    "<br>\n",
    "<br>\n",
    "<img src=\"https://media.giphy.com/media/arm7b1hJrw1BS/giphy.gif\">\n",
    "<i>Fonte: http://felipegalvao.com.br"
   ]
  }
 ],
 "metadata": {
  "kernelspec": {
   "display_name": "Python [Root]",
   "language": "python",
   "name": "Python [Root]"
  },
  "language_info": {
   "codemirror_mode": {
    "name": "ipython",
    "version": 3
   },
   "file_extension": ".py",
   "mimetype": "text/x-python",
   "name": "python",
   "nbconvert_exporter": "python",
   "pygments_lexer": "ipython3",
   "version": "3.5.2"
  }
 },
 "nbformat": 4,
 "nbformat_minor": 0
}
